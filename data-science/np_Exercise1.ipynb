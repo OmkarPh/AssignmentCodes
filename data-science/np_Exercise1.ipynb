{
  "cells": [
    {
      "cell_type": "code",
      "execution_count": 3,
      "metadata": {},
      "outputs": [],
      "source": [
        "import numpy as np"
      ]
    },
    {
      "cell_type": "markdown",
      "metadata": {
        "id": "54kqs-oAi7-u"
      },
      "source": [
        "#Heights of the players is stored as a regular Python list: height_in. The height is expressed in inches. Can you make a numpy array out of it ?\n",
        "\n",
        "\n",
        "1.   create an random integer numpy array for heights in inches in the range 67 to 83 of size 1015\n",
        "\n",
        "2.   create an random integer numpy array for wights in lbs in the range 150 to 290 of size 1015\n",
        "\n",
        "\n",
        "\n"
      ]
    },
    {
      "cell_type": "code",
      "execution_count": 5,
      "metadata": {
        "id": "iuIQ7hfHjA-N"
      },
      "outputs": [],
      "source": [
        "height_in = np.random.randint(67,83,1015)\n",
        "weights_lb = np.random.randint(150, 290, 1015)"
      ]
    },
    {
      "cell_type": "markdown",
      "metadata": {
        "id": "4p2oqy9FjlJH"
      },
      "source": [
        "# Convert the heights from inches to meters\n",
        "heights * 0.0254"
      ]
    },
    {
      "cell_type": "code",
      "execution_count": 12,
      "metadata": {
        "id": "bIpA8OWLko6_"
      },
      "outputs": [
        {
          "data": {
            "text/plain": [
              "array([1.8542, 2.0828, 1.7526, ..., 2.0828, 1.7018, 2.0066])"
            ]
          },
          "execution_count": 12,
          "metadata": {},
          "output_type": "execute_result"
        }
      ],
      "source": [
        "heights = height_in * 0.0254\n",
        "heights"
      ]
    },
    {
      "cell_type": "markdown",
      "metadata": {
        "id": "vlMci_PYkpp2"
      },
      "source": [
        "# Converting weights in lbs to kg =weights_lb * 0.453592"
      ]
    },
    {
      "cell_type": "code",
      "execution_count": 13,
      "metadata": {
        "id": "KHyHQTn4k0Pf"
      },
      "outputs": [
        {
          "data": {
            "text/plain": [
              "array([ 76.203456,  98.883056,  73.935496, ..., 101.151016,  92.079176,\n",
              "        98.883056])"
            ]
          },
          "execution_count": 13,
          "metadata": {},
          "output_type": "execute_result"
        }
      ],
      "source": [
        "weights = weights_lb * 0.453592\n",
        "weights"
      ]
    },
    {
      "cell_type": "markdown",
      "metadata": {
        "id": "hRGkp5Iak0vx"
      },
      "source": [
        "# Calculate the BMI: bmi"
      ]
    },
    {
      "cell_type": "code",
      "execution_count": 14,
      "metadata": {
        "id": "jaN5Rv8Ik-tj"
      },
      "outputs": [
        {
          "data": {
            "text/plain": [
              "array([22.1646825 , 22.7943253 , 24.0706255 , ..., 23.31713093,\n",
              "       31.79394258, 24.55841105])"
            ]
          },
          "execution_count": 14,
          "metadata": {},
          "output_type": "execute_result"
        }
      ],
      "source": [
        "bmi = weights / heights ** 2\n",
        "bmi"
      ]
    },
    {
      "cell_type": "markdown",
      "metadata": {
        "id": "8jUVQEthk_cV"
      },
      "source": [
        "Fetch the first element from the bmi array"
      ]
    },
    {
      "cell_type": "code",
      "execution_count": null,
      "metadata": {
        "id": "lFY9w5_8lBEm"
      },
      "outputs": [],
      "source": [
        "bmi[0]"
      ]
    },
    {
      "cell_type": "markdown",
      "metadata": {
        "id": "wUpFl8_6lG2P"
      },
      "source": [
        "Fetch the first element from the bmi array"
      ]
    },
    {
      "cell_type": "code",
      "execution_count": null,
      "metadata": {
        "id": "DgDvRABilKSJ"
      },
      "outputs": [],
      "source": []
    },
    {
      "cell_type": "markdown",
      "metadata": {
        "id": "UD8zMR2wlLQw"
      },
      "source": [
        "Fetch the first five element from the bmi array"
      ]
    },
    {
      "cell_type": "code",
      "execution_count": 15,
      "metadata": {
        "id": "1CunhzuHlSJU"
      },
      "outputs": [
        {
          "data": {
            "text/plain": [
              "array([22.1646825 , 22.7943253 , 24.0706255 , 28.82572209, 23.31922517])"
            ]
          },
          "execution_count": 15,
          "metadata": {},
          "output_type": "execute_result"
        }
      ],
      "source": [
        "bmi[:5]"
      ]
    },
    {
      "cell_type": "markdown",
      "metadata": {
        "id": "-HVwXkc1lSi1"
      },
      "source": [
        "Count the number of pariticipants who are underweight i.e. bmi < 21"
      ]
    },
    {
      "cell_type": "markdown",
      "metadata": {
        "id": "GeuasOqwmAfU"
      },
      "source": [
        "Players list contain the height(inches) and weight(lbs) data for all the players"
      ]
    },
    {
      "cell_type": "code",
      "execution_count": 17,
      "metadata": {
        "id": "e-j8ploClTa9"
      },
      "outputs": [
        {
          "data": {
            "text/plain": [
              "array([20.51457886, 16.72978004, 18.50731917, 19.71904068, 17.78836382,\n",
              "       20.54279752, 20.54279752, 19.47559574, 20.89596955, 18.7452609 ,\n",
              "       18.49869539, 17.77539129, 18.02452187, 20.79933875, 20.80085817,\n",
              "       20.44937552, 20.15738385, 19.18301365, 17.90628875, 19.13468592,\n",
              "       19.52969461, 18.74850683, 19.93962732, 20.2848583 , 18.71644142,\n",
              "       19.32876505, 19.55293042, 20.20593058, 20.15738385, 18.45556141,\n",
              "       19.18301365, 20.69282047, 19.50290491, 16.62521891, 17.46125556,\n",
              "       16.07382273, 18.64563436, 17.67083017, 17.79628977, 20.34343189,\n",
              "       18.38009348, 19.61006373, 20.91222505, 16.10241329, 20.34343189,\n",
              "       15.68416879, 18.00268146, 18.72077235, 19.78989509, 20.05376036,\n",
              "       20.038699  , 18.61727677, 20.18569299, 18.74850683, 18.02452187,\n",
              "       19.48901427, 17.25258567, 20.02899287, 19.82438136, 20.75030053,\n",
              "       19.21018367, 20.72820015, 18.53847555, 19.25864699, 20.71342352,\n",
              "       19.55410673, 20.61554689, 20.59854167, 18.38009348, 19.6845092 ,\n",
              "       19.03840122, 17.46687062, 19.24846701, 16.6978889 , 18.21699909,\n",
              "       19.48901427, 19.4442522 , 17.68656208, 20.78881073, 19.15105449,\n",
              "       16.20697441, 20.15883472, 20.18569299, 19.1146886 , 17.87995242,\n",
              "       18.29819692, 20.571098  , 18.38009348, 19.55410673, 19.12347697,\n",
              "       20.28577483, 19.64525494, 20.34343189, 19.48901427, 17.24716156,\n",
              "       20.38941942, 18.24982839, 20.2774161 , 19.61006373, 18.258371  ,\n",
              "       17.90578848, 19.18301365, 17.68656208, 19.23215079, 19.11042832,\n",
              "       20.038699  , 17.90628875, 17.68072944, 16.6978889 , 20.18569299,\n",
              "       20.98890438, 19.52969461, 18.859952  , 20.81454294, 18.37409138,\n",
              "       20.10749623, 19.35387326, 20.41416581, 20.58149089, 20.76250659,\n",
              "       16.31153554, 19.99840729, 19.4483693 , 16.82393446, 20.50289363,\n",
              "       18.53847555, 20.9205219 , 20.65265206, 20.05376036, 17.90628875])"
            ]
          },
          "execution_count": 17,
          "metadata": {},
          "output_type": "execute_result"
        }
      ],
      "source": [
        "bmi[bmi < 21]"
      ]
    },
    {
      "cell_type": "code",
      "execution_count": 20,
      "metadata": {
        "colab": {
          "base_uri": "https://localhost:8080/"
        },
        "id": "GDH29tqoFl5y",
        "outputId": "8eec259c-b89f-480c-9444-370ff6f71ba1"
      },
      "outputs": [
        {
          "data": {
            "text/plain": [
              "array([ 5,  8, 11, 14, 17, 20, 23, 26, 29, 32, 35, 38, 41, 44, 47, 50, 53])"
            ]
          },
          "execution_count": 20,
          "metadata": {},
          "output_type": "execute_result"
        }
      ],
      "source": [
        "tmp = np.arange(5, 55, 3)\n",
        "tmp"
      ]
    },
    {
      "cell_type": "code",
      "execution_count": 21,
      "metadata": {},
      "outputs": [
        {
          "data": {
            "text/plain": [
              "5"
            ]
          },
          "execution_count": 21,
          "metadata": {},
          "output_type": "execute_result"
        }
      ],
      "source": [
        "np.min(tmp)"
      ]
    },
    {
      "cell_type": "code",
      "execution_count": 22,
      "metadata": {},
      "outputs": [
        {
          "data": {
            "text/plain": [
              "53"
            ]
          },
          "execution_count": 22,
          "metadata": {},
          "output_type": "execute_result"
        }
      ],
      "source": [
        "np.max(tmp)"
      ]
    },
    {
      "cell_type": "code",
      "execution_count": 24,
      "metadata": {},
      "outputs": [
        {
          "data": {
            "text/plain": [
              "53"
            ]
          },
          "execution_count": 24,
          "metadata": {},
          "output_type": "execute_result"
        }
      ],
      "source": [
        "tmp[np.argmax(tmp)]"
      ]
    },
    {
      "cell_type": "code",
      "execution_count": 25,
      "metadata": {},
      "outputs": [
        {
          "data": {
            "text/plain": [
              "0"
            ]
          },
          "execution_count": 25,
          "metadata": {},
          "output_type": "execute_result"
        }
      ],
      "source": [
        "np.argmin(tmp)"
      ]
    },
    {
      "cell_type": "code",
      "execution_count": 27,
      "metadata": {},
      "outputs": [
        {
          "data": {
            "text/plain": [
              "array([ 2,  5,  8, 11, 14, 17, 20, 23, 26, 29, 32, 35, 38, 41, 44, 47])"
            ]
          },
          "execution_count": 27,
          "metadata": {},
          "output_type": "execute_result"
        }
      ],
      "source": [
        "singledarray = np.arange(2,50,3)\n",
        "singledarray"
      ]
    },
    {
      "cell_type": "code",
      "execution_count": 30,
      "metadata": {},
      "outputs": [
        {
          "data": {
            "text/plain": [
              "16"
            ]
          },
          "execution_count": 30,
          "metadata": {},
          "output_type": "execute_result"
        }
      ],
      "source": [
        "singledarray.size"
      ]
    },
    {
      "cell_type": "code",
      "execution_count": 32,
      "metadata": {},
      "outputs": [
        {
          "data": {
            "text/plain": [
              "array([[ 2,  5,  8, 11, 14, 17, 20, 23],\n",
              "       [26, 29, 32, 35, 38, 41, 44, 47]])"
            ]
          },
          "execution_count": 32,
          "metadata": {},
          "output_type": "execute_result"
        }
      ],
      "source": [
        "singledarray.reshape(2,-1)"
      ]
    },
    {
      "cell_type": "code",
      "execution_count": null,
      "metadata": {},
      "outputs": [],
      "source": []
    },
    {
      "cell_type": "code",
      "execution_count": null,
      "metadata": {},
      "outputs": [],
      "source": []
    },
    {
      "cell_type": "markdown",
      "metadata": {
        "id": "KdWJ6YWqrjlj"
      },
      "source": []
    }
  ],
  "metadata": {
    "colab": {
      "provenance": []
    },
    "kernelspec": {
      "display_name": "Python 3",
      "name": "python3"
    },
    "language_info": {
      "codemirror_mode": {
        "name": "ipython",
        "version": 3
      },
      "file_extension": ".py",
      "mimetype": "text/x-python",
      "name": "python",
      "nbconvert_exporter": "python",
      "pygments_lexer": "ipython3",
      "version": "3.11.5"
    }
  },
  "nbformat": 4,
  "nbformat_minor": 0
}
