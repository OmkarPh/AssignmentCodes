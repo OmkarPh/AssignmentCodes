{
  "cells": [
    {
      "cell_type": "markdown",
      "metadata": {
        "id": "K-qIGqPvYxSo"
      },
      "source": [
        "## Practice Exercise 2"
      ]
    },
    {
      "cell_type": "markdown",
      "metadata": {
        "id": "W-c14E3IYxSr"
      },
      "source": [
        "In this assignment, you will try to find some interesting insights into a few movies released between 1916 and 2016, using Python. You will have to download a movie dataset, write Python code to explore the data, gain insights into the movies, actors, directors, and collections, and submit the code."
      ]
    },
    {
      "cell_type": "markdown",
      "metadata": {
        "id": "NS-Mh89qYxSs"
      },
      "source": [
        "#### Some tips before starting the assignment\n",
        "\n",
        "1. Identify the task to be performed correctly, and only then proceed to write the required code. Don’t perform any incorrect analysis or look for information that isn’t required for the assignment.\n",
        "2. In some cases, the variable names have already been assigned, and you just need to write code against them. In other cases, the names to be given are mentioned in the instructions. We strongly advise you to use the mentioned names only.\n",
        "3. Always keep inspecting your data frame after you have performed a particular set of operations.\n",
        "4. There are some checkpoints given in the IPython notebook provided. They're just useful pieces of information you can use to check if the result you have obtained after performing a particular task is correct or not.\n",
        "5. Note that you will be asked to refer to documentation for solving some of the questions. That is done on purpose for you to learn new commands and also how to use the documentation."
      ]
    },
    {
      "cell_type": "code",
      "execution_count": 64,
      "metadata": {
        "id": "Wi5665CYYxSt"
      },
      "outputs": [],
      "source": [
        "# Import the numpy and pandas packages\n",
        "\n",
        "import numpy as np\n",
        "import pandas as pd"
      ]
    },
    {
      "cell_type": "markdown",
      "metadata": {
        "id": "ITRxvk2dYxSu"
      },
      "source": [
        "\n",
        "### Task 1: Reading and Inspection\n",
        "\n",
        "**Subtask 1.1: Import and read**\n",
        "\n",
        "Import and read the movie database. Store it in a variable called `movies`."
      ]
    },
    {
      "cell_type": "code",
      "execution_count": 65,
      "metadata": {
        "id": "baviX7TrYxSv"
      },
      "outputs": [
        {
          "data": {
            "text/html": [
              "<div>\n",
              "<style scoped>\n",
              "    .dataframe tbody tr th:only-of-type {\n",
              "        vertical-align: middle;\n",
              "    }\n",
              "\n",
              "    .dataframe tbody tr th {\n",
              "        vertical-align: top;\n",
              "    }\n",
              "\n",
              "    .dataframe thead th {\n",
              "        text-align: right;\n",
              "    }\n",
              "</style>\n",
              "<table border=\"1\" class=\"dataframe\">\n",
              "  <thead>\n",
              "    <tr style=\"text-align: right;\">\n",
              "      <th></th>\n",
              "      <th>color</th>\n",
              "      <th>director_name</th>\n",
              "      <th>num_critic_for_reviews</th>\n",
              "      <th>duration</th>\n",
              "      <th>director_facebook_likes</th>\n",
              "      <th>actor_3_facebook_likes</th>\n",
              "      <th>actor_2_name</th>\n",
              "      <th>actor_1_facebook_likes</th>\n",
              "      <th>gross</th>\n",
              "      <th>genres</th>\n",
              "      <th>...</th>\n",
              "      <th>num_user_for_reviews</th>\n",
              "      <th>language</th>\n",
              "      <th>country</th>\n",
              "      <th>content_rating</th>\n",
              "      <th>budget</th>\n",
              "      <th>title_year</th>\n",
              "      <th>actor_2_facebook_likes</th>\n",
              "      <th>imdb_score</th>\n",
              "      <th>aspect_ratio</th>\n",
              "      <th>movie_facebook_likes</th>\n",
              "    </tr>\n",
              "  </thead>\n",
              "  <tbody>\n",
              "    <tr>\n",
              "      <th>0</th>\n",
              "      <td>Color</td>\n",
              "      <td>James Cameron</td>\n",
              "      <td>723.0</td>\n",
              "      <td>178.0</td>\n",
              "      <td>0.0</td>\n",
              "      <td>855.0</td>\n",
              "      <td>Joel David Moore</td>\n",
              "      <td>1000.0</td>\n",
              "      <td>760505847.0</td>\n",
              "      <td>Action|Adventure|Fantasy|Sci-Fi</td>\n",
              "      <td>...</td>\n",
              "      <td>3054.0</td>\n",
              "      <td>English</td>\n",
              "      <td>USA</td>\n",
              "      <td>PG-13</td>\n",
              "      <td>237000000.0</td>\n",
              "      <td>2009.0</td>\n",
              "      <td>936.0</td>\n",
              "      <td>7.9</td>\n",
              "      <td>1.78</td>\n",
              "      <td>33000</td>\n",
              "    </tr>\n",
              "    <tr>\n",
              "      <th>1</th>\n",
              "      <td>Color</td>\n",
              "      <td>Gore Verbinski</td>\n",
              "      <td>302.0</td>\n",
              "      <td>169.0</td>\n",
              "      <td>563.0</td>\n",
              "      <td>1000.0</td>\n",
              "      <td>Orlando Bloom</td>\n",
              "      <td>40000.0</td>\n",
              "      <td>309404152.0</td>\n",
              "      <td>Action|Adventure|Fantasy</td>\n",
              "      <td>...</td>\n",
              "      <td>1238.0</td>\n",
              "      <td>English</td>\n",
              "      <td>USA</td>\n",
              "      <td>PG-13</td>\n",
              "      <td>300000000.0</td>\n",
              "      <td>2007.0</td>\n",
              "      <td>5000.0</td>\n",
              "      <td>7.1</td>\n",
              "      <td>2.35</td>\n",
              "      <td>0</td>\n",
              "    </tr>\n",
              "  </tbody>\n",
              "</table>\n",
              "<p>2 rows × 28 columns</p>\n",
              "</div>"
            ],
            "text/plain": [
              "   color   director_name  num_critic_for_reviews  duration   \n",
              "0  Color   James Cameron                   723.0     178.0  \\\n",
              "1  Color  Gore Verbinski                   302.0     169.0   \n",
              "\n",
              "   director_facebook_likes  actor_3_facebook_likes      actor_2_name   \n",
              "0                      0.0                   855.0  Joel David Moore  \\\n",
              "1                    563.0                  1000.0     Orlando Bloom   \n",
              "\n",
              "   actor_1_facebook_likes        gross                           genres  ...   \n",
              "0                  1000.0  760505847.0  Action|Adventure|Fantasy|Sci-Fi  ...  \\\n",
              "1                 40000.0  309404152.0         Action|Adventure|Fantasy  ...   \n",
              "\n",
              "  num_user_for_reviews language  country  content_rating       budget   \n",
              "0               3054.0  English      USA           PG-13  237000000.0  \\\n",
              "1               1238.0  English      USA           PG-13  300000000.0   \n",
              "\n",
              "   title_year actor_2_facebook_likes imdb_score  aspect_ratio   \n",
              "0      2009.0                  936.0        7.9          1.78  \\\n",
              "1      2007.0                 5000.0        7.1          2.35   \n",
              "\n",
              "  movie_facebook_likes  \n",
              "0                33000  \n",
              "1                    0  \n",
              "\n",
              "[2 rows x 28 columns]"
            ]
          },
          "execution_count": 65,
          "metadata": {},
          "output_type": "execute_result"
        }
      ],
      "source": [
        "# Write your code for importing the csv file here\n",
        "movies = pd.read_csv(\"Movies.csv\")\n",
        "movies.head(2)"
      ]
    },
    {
      "cell_type": "code",
      "execution_count": 66,
      "metadata": {},
      "outputs": [
        {
          "data": {
            "text/html": [
              "<div>\n",
              "<style scoped>\n",
              "    .dataframe tbody tr th:only-of-type {\n",
              "        vertical-align: middle;\n",
              "    }\n",
              "\n",
              "    .dataframe tbody tr th {\n",
              "        vertical-align: top;\n",
              "    }\n",
              "\n",
              "    .dataframe thead th {\n",
              "        text-align: right;\n",
              "    }\n",
              "</style>\n",
              "<table border=\"1\" class=\"dataframe\">\n",
              "  <thead>\n",
              "    <tr style=\"text-align: right;\">\n",
              "      <th></th>\n",
              "      <th>color</th>\n",
              "      <th>director_name</th>\n",
              "      <th>num_critic_for_reviews</th>\n",
              "      <th>duration</th>\n",
              "      <th>director_facebook_likes</th>\n",
              "      <th>actor_3_facebook_likes</th>\n",
              "      <th>actor_2_name</th>\n",
              "      <th>actor_1_facebook_likes</th>\n",
              "      <th>gross</th>\n",
              "      <th>genres</th>\n",
              "      <th>...</th>\n",
              "      <th>num_user_for_reviews</th>\n",
              "      <th>language</th>\n",
              "      <th>country</th>\n",
              "      <th>content_rating</th>\n",
              "      <th>budget</th>\n",
              "      <th>title_year</th>\n",
              "      <th>actor_2_facebook_likes</th>\n",
              "      <th>imdb_score</th>\n",
              "      <th>aspect_ratio</th>\n",
              "      <th>movie_facebook_likes</th>\n",
              "    </tr>\n",
              "  </thead>\n",
              "  <tbody>\n",
              "    <tr>\n",
              "      <th>3851</th>\n",
              "      <td>Color</td>\n",
              "      <td>Edward Burns</td>\n",
              "      <td>14.0</td>\n",
              "      <td>95.0</td>\n",
              "      <td>0.0</td>\n",
              "      <td>133.0</td>\n",
              "      <td>Caitlin FitzGerald</td>\n",
              "      <td>296.0</td>\n",
              "      <td>4584.0</td>\n",
              "      <td>Comedy|Drama</td>\n",
              "      <td>...</td>\n",
              "      <td>14.0</td>\n",
              "      <td>English</td>\n",
              "      <td>USA</td>\n",
              "      <td>Not Rated</td>\n",
              "      <td>9000.0</td>\n",
              "      <td>2011.0</td>\n",
              "      <td>205.0</td>\n",
              "      <td>6.4</td>\n",
              "      <td>NaN</td>\n",
              "      <td>413</td>\n",
              "    </tr>\n",
              "    <tr>\n",
              "      <th>3852</th>\n",
              "      <td>Color</td>\n",
              "      <td>Jon Gunn</td>\n",
              "      <td>43.0</td>\n",
              "      <td>90.0</td>\n",
              "      <td>16.0</td>\n",
              "      <td>16.0</td>\n",
              "      <td>Brian Herzlinger</td>\n",
              "      <td>86.0</td>\n",
              "      <td>85222.0</td>\n",
              "      <td>Documentary</td>\n",
              "      <td>...</td>\n",
              "      <td>84.0</td>\n",
              "      <td>English</td>\n",
              "      <td>USA</td>\n",
              "      <td>PG</td>\n",
              "      <td>1100.0</td>\n",
              "      <td>2004.0</td>\n",
              "      <td>23.0</td>\n",
              "      <td>6.6</td>\n",
              "      <td>1.85</td>\n",
              "      <td>456</td>\n",
              "    </tr>\n",
              "  </tbody>\n",
              "</table>\n",
              "<p>2 rows × 28 columns</p>\n",
              "</div>"
            ],
            "text/plain": [
              "      color director_name  num_critic_for_reviews  duration   \n",
              "3851  Color  Edward Burns                    14.0      95.0  \\\n",
              "3852  Color      Jon Gunn                    43.0      90.0   \n",
              "\n",
              "      director_facebook_likes  actor_3_facebook_likes        actor_2_name   \n",
              "3851                      0.0                   133.0  Caitlin FitzGerald  \\\n",
              "3852                     16.0                    16.0    Brian Herzlinger   \n",
              "\n",
              "      actor_1_facebook_likes    gross        genres  ... num_user_for_reviews   \n",
              "3851                   296.0   4584.0  Comedy|Drama  ...                 14.0  \\\n",
              "3852                    86.0  85222.0   Documentary  ...                 84.0   \n",
              "\n",
              "     language  country  content_rating  budget  title_year   \n",
              "3851  English      USA       Not Rated  9000.0      2011.0  \\\n",
              "3852  English      USA              PG  1100.0      2004.0   \n",
              "\n",
              "     actor_2_facebook_likes imdb_score  aspect_ratio movie_facebook_likes  \n",
              "3851                  205.0        6.4           NaN                  413  \n",
              "3852                   23.0        6.6          1.85                  456  \n",
              "\n",
              "[2 rows x 28 columns]"
            ]
          },
          "execution_count": 66,
          "metadata": {},
          "output_type": "execute_result"
        }
      ],
      "source": [
        "movies.tail(2)"
      ]
    },
    {
      "cell_type": "markdown",
      "metadata": {
        "id": "_ucDBgMaYxSv"
      },
      "source": [
        "**Subtask 1.2: Inspect the dataframe**\n",
        "\n",
        "Inspect the dataframe's columns, shapes, variable types etc."
      ]
    },
    {
      "cell_type": "code",
      "execution_count": 67,
      "metadata": {
        "id": "rxYk4sHnYxSw"
      },
      "outputs": [
        {
          "data": {
            "text/plain": [
              "(3853, 28)"
            ]
          },
          "execution_count": 67,
          "metadata": {},
          "output_type": "execute_result"
        }
      ],
      "source": [
        "# Write your code for inspection here\n",
        "movies.shape"
      ]
    },
    {
      "cell_type": "code",
      "execution_count": 68,
      "metadata": {},
      "outputs": [
        {
          "data": {
            "text/html": [
              "<div>\n",
              "<style scoped>\n",
              "    .dataframe tbody tr th:only-of-type {\n",
              "        vertical-align: middle;\n",
              "    }\n",
              "\n",
              "    .dataframe tbody tr th {\n",
              "        vertical-align: top;\n",
              "    }\n",
              "\n",
              "    .dataframe thead th {\n",
              "        text-align: right;\n",
              "    }\n",
              "</style>\n",
              "<table border=\"1\" class=\"dataframe\">\n",
              "  <thead>\n",
              "    <tr style=\"text-align: right;\">\n",
              "      <th></th>\n",
              "      <th>num_critic_for_reviews</th>\n",
              "      <th>duration</th>\n",
              "      <th>director_facebook_likes</th>\n",
              "      <th>actor_3_facebook_likes</th>\n",
              "      <th>actor_1_facebook_likes</th>\n",
              "      <th>gross</th>\n",
              "      <th>num_voted_users</th>\n",
              "      <th>cast_total_facebook_likes</th>\n",
              "      <th>facenumber_in_poster</th>\n",
              "      <th>num_user_for_reviews</th>\n",
              "      <th>budget</th>\n",
              "      <th>title_year</th>\n",
              "      <th>actor_2_facebook_likes</th>\n",
              "      <th>imdb_score</th>\n",
              "      <th>aspect_ratio</th>\n",
              "      <th>movie_facebook_likes</th>\n",
              "    </tr>\n",
              "  </thead>\n",
              "  <tbody>\n",
              "    <tr>\n",
              "      <th>count</th>\n",
              "      <td>3852.000000</td>\n",
              "      <td>3852.000000</td>\n",
              "      <td>3853.000000</td>\n",
              "      <td>3847.000000</td>\n",
              "      <td>3853.000000</td>\n",
              "      <td>3.853000e+03</td>\n",
              "      <td>3.853000e+03</td>\n",
              "      <td>3853.000000</td>\n",
              "      <td>3847.000000</td>\n",
              "      <td>3853.000000</td>\n",
              "      <td>3.853000e+03</td>\n",
              "      <td>3853.000000</td>\n",
              "      <td>3852.000000</td>\n",
              "      <td>3853.000000</td>\n",
              "      <td>3781.000000</td>\n",
              "      <td>3853.000000</td>\n",
              "    </tr>\n",
              "    <tr>\n",
              "      <th>mean</th>\n",
              "      <td>163.046989</td>\n",
              "      <td>109.921080</td>\n",
              "      <td>784.507397</td>\n",
              "      <td>747.290096</td>\n",
              "      <td>7575.558526</td>\n",
              "      <td>5.096547e+07</td>\n",
              "      <td>1.024240e+05</td>\n",
              "      <td>11239.480145</td>\n",
              "      <td>1.378217</td>\n",
              "      <td>326.720478</td>\n",
              "      <td>4.524817e+07</td>\n",
              "      <td>2003.061511</td>\n",
              "      <td>1959.018432</td>\n",
              "      <td>6.462886</td>\n",
              "      <td>2.109569</td>\n",
              "      <td>9089.546068</td>\n",
              "    </tr>\n",
              "    <tr>\n",
              "      <th>std</th>\n",
              "      <td>123.927258</td>\n",
              "      <td>22.741728</td>\n",
              "      <td>3027.395958</td>\n",
              "      <td>1841.623945</td>\n",
              "      <td>15405.383114</td>\n",
              "      <td>6.932033e+07</td>\n",
              "      <td>1.502942e+05</td>\n",
              "      <td>18922.948757</td>\n",
              "      <td>2.056071</td>\n",
              "      <td>407.920904</td>\n",
              "      <td>2.234208e+08</td>\n",
              "      <td>10.007168</td>\n",
              "      <td>4472.171290</td>\n",
              "      <td>1.053843</td>\n",
              "      <td>0.353236</td>\n",
              "      <td>21277.375223</td>\n",
              "    </tr>\n",
              "    <tr>\n",
              "      <th>min</th>\n",
              "      <td>1.000000</td>\n",
              "      <td>34.000000</td>\n",
              "      <td>0.000000</td>\n",
              "      <td>0.000000</td>\n",
              "      <td>0.000000</td>\n",
              "      <td>1.620000e+02</td>\n",
              "      <td>5.000000e+00</td>\n",
              "      <td>0.000000</td>\n",
              "      <td>0.000000</td>\n",
              "      <td>1.000000</td>\n",
              "      <td>2.180000e+02</td>\n",
              "      <td>1920.000000</td>\n",
              "      <td>0.000000</td>\n",
              "      <td>1.600000</td>\n",
              "      <td>1.180000</td>\n",
              "      <td>0.000000</td>\n",
              "    </tr>\n",
              "    <tr>\n",
              "      <th>25%</th>\n",
              "      <td>72.000000</td>\n",
              "      <td>95.000000</td>\n",
              "      <td>10.000000</td>\n",
              "      <td>183.000000</td>\n",
              "      <td>721.000000</td>\n",
              "      <td>6.830957e+06</td>\n",
              "      <td>1.730900e+04</td>\n",
              "      <td>1817.000000</td>\n",
              "      <td>0.000000</td>\n",
              "      <td>102.000000</td>\n",
              "      <td>1.000000e+07</td>\n",
              "      <td>1999.000000</td>\n",
              "      <td>362.000000</td>\n",
              "      <td>5.900000</td>\n",
              "      <td>1.850000</td>\n",
              "      <td>0.000000</td>\n",
              "    </tr>\n",
              "    <tr>\n",
              "      <th>50%</th>\n",
              "      <td>134.000000</td>\n",
              "      <td>106.000000</td>\n",
              "      <td>58.000000</td>\n",
              "      <td>427.000000</td>\n",
              "      <td>1000.000000</td>\n",
              "      <td>2.790000e+07</td>\n",
              "      <td>5.052300e+04</td>\n",
              "      <td>3876.000000</td>\n",
              "      <td>1.000000</td>\n",
              "      <td>203.000000</td>\n",
              "      <td>2.400000e+07</td>\n",
              "      <td>2005.000000</td>\n",
              "      <td>664.000000</td>\n",
              "      <td>6.600000</td>\n",
              "      <td>2.350000</td>\n",
              "      <td>206.000000</td>\n",
              "    </tr>\n",
              "    <tr>\n",
              "      <th>75%</th>\n",
              "      <td>221.000000</td>\n",
              "      <td>120.000000</td>\n",
              "      <td>222.000000</td>\n",
              "      <td>685.000000</td>\n",
              "      <td>12000.000000</td>\n",
              "      <td>6.550000e+07</td>\n",
              "      <td>1.241850e+05</td>\n",
              "      <td>15972.000000</td>\n",
              "      <td>2.000000</td>\n",
              "      <td>391.000000</td>\n",
              "      <td>5.000000e+07</td>\n",
              "      <td>2010.000000</td>\n",
              "      <td>971.000000</td>\n",
              "      <td>7.200000</td>\n",
              "      <td>2.350000</td>\n",
              "      <td>11000.000000</td>\n",
              "    </tr>\n",
              "    <tr>\n",
              "      <th>max</th>\n",
              "      <td>813.000000</td>\n",
              "      <td>330.000000</td>\n",
              "      <td>23000.000000</td>\n",
              "      <td>23000.000000</td>\n",
              "      <td>640000.000000</td>\n",
              "      <td>7.605058e+08</td>\n",
              "      <td>1.689764e+06</td>\n",
              "      <td>656730.000000</td>\n",
              "      <td>43.000000</td>\n",
              "      <td>5060.000000</td>\n",
              "      <td>1.221550e+10</td>\n",
              "      <td>2016.000000</td>\n",
              "      <td>137000.000000</td>\n",
              "      <td>9.300000</td>\n",
              "      <td>16.000000</td>\n",
              "      <td>349000.000000</td>\n",
              "    </tr>\n",
              "  </tbody>\n",
              "</table>\n",
              "</div>"
            ],
            "text/plain": [
              "       num_critic_for_reviews     duration  director_facebook_likes   \n",
              "count             3852.000000  3852.000000              3853.000000  \\\n",
              "mean               163.046989   109.921080               784.507397   \n",
              "std                123.927258    22.741728              3027.395958   \n",
              "min                  1.000000    34.000000                 0.000000   \n",
              "25%                 72.000000    95.000000                10.000000   \n",
              "50%                134.000000   106.000000                58.000000   \n",
              "75%                221.000000   120.000000               222.000000   \n",
              "max                813.000000   330.000000             23000.000000   \n",
              "\n",
              "       actor_3_facebook_likes  actor_1_facebook_likes         gross   \n",
              "count             3847.000000             3853.000000  3.853000e+03  \\\n",
              "mean               747.290096             7575.558526  5.096547e+07   \n",
              "std               1841.623945            15405.383114  6.932033e+07   \n",
              "min                  0.000000                0.000000  1.620000e+02   \n",
              "25%                183.000000              721.000000  6.830957e+06   \n",
              "50%                427.000000             1000.000000  2.790000e+07   \n",
              "75%                685.000000            12000.000000  6.550000e+07   \n",
              "max              23000.000000           640000.000000  7.605058e+08   \n",
              "\n",
              "       num_voted_users  cast_total_facebook_likes  facenumber_in_poster   \n",
              "count     3.853000e+03                3853.000000           3847.000000  \\\n",
              "mean      1.024240e+05               11239.480145              1.378217   \n",
              "std       1.502942e+05               18922.948757              2.056071   \n",
              "min       5.000000e+00                   0.000000              0.000000   \n",
              "25%       1.730900e+04                1817.000000              0.000000   \n",
              "50%       5.052300e+04                3876.000000              1.000000   \n",
              "75%       1.241850e+05               15972.000000              2.000000   \n",
              "max       1.689764e+06              656730.000000             43.000000   \n",
              "\n",
              "       num_user_for_reviews        budget   title_year   \n",
              "count           3853.000000  3.853000e+03  3853.000000  \\\n",
              "mean             326.720478  4.524817e+07  2003.061511   \n",
              "std              407.920904  2.234208e+08    10.007168   \n",
              "min                1.000000  2.180000e+02  1920.000000   \n",
              "25%              102.000000  1.000000e+07  1999.000000   \n",
              "50%              203.000000  2.400000e+07  2005.000000   \n",
              "75%              391.000000  5.000000e+07  2010.000000   \n",
              "max             5060.000000  1.221550e+10  2016.000000   \n",
              "\n",
              "       actor_2_facebook_likes   imdb_score  aspect_ratio  movie_facebook_likes  \n",
              "count             3852.000000  3853.000000   3781.000000           3853.000000  \n",
              "mean              1959.018432     6.462886      2.109569           9089.546068  \n",
              "std               4472.171290     1.053843      0.353236          21277.375223  \n",
              "min                  0.000000     1.600000      1.180000              0.000000  \n",
              "25%                362.000000     5.900000      1.850000              0.000000  \n",
              "50%                664.000000     6.600000      2.350000            206.000000  \n",
              "75%                971.000000     7.200000      2.350000          11000.000000  \n",
              "max             137000.000000     9.300000     16.000000         349000.000000  "
            ]
          },
          "execution_count": 68,
          "metadata": {},
          "output_type": "execute_result"
        }
      ],
      "source": [
        "movies.describe()"
      ]
    },
    {
      "cell_type": "code",
      "execution_count": 69,
      "metadata": {},
      "outputs": [
        {
          "name": "stdout",
          "output_type": "stream",
          "text": [
            "<class 'pandas.core.frame.DataFrame'>\n",
            "RangeIndex: 3853 entries, 0 to 3852\n",
            "Data columns (total 28 columns):\n",
            " #   Column                     Non-Null Count  Dtype  \n",
            "---  ------                     --------------  -----  \n",
            " 0   color                      3851 non-null   object \n",
            " 1   director_name              3853 non-null   object \n",
            " 2   num_critic_for_reviews     3852 non-null   float64\n",
            " 3   duration                   3852 non-null   float64\n",
            " 4   director_facebook_likes    3853 non-null   float64\n",
            " 5   actor_3_facebook_likes     3847 non-null   float64\n",
            " 6   actor_2_name               3852 non-null   object \n",
            " 7   actor_1_facebook_likes     3853 non-null   float64\n",
            " 8   gross                      3853 non-null   float64\n",
            " 9   genres                     3853 non-null   object \n",
            " 10  actor_1_name               3853 non-null   object \n",
            " 11  movie_title                3853 non-null   object \n",
            " 12  num_voted_users            3853 non-null   int64  \n",
            " 13  cast_total_facebook_likes  3853 non-null   int64  \n",
            " 14  actor_3_name               3847 non-null   object \n",
            " 15  facenumber_in_poster       3847 non-null   float64\n",
            " 16  plot_keywords              3823 non-null   object \n",
            " 17  movie_imdb_link            3853 non-null   object \n",
            " 18  num_user_for_reviews       3853 non-null   float64\n",
            " 19  language                   3849 non-null   object \n",
            " 20  country                    3853 non-null   object \n",
            " 21  content_rating             3805 non-null   object \n",
            " 22  budget                     3853 non-null   float64\n",
            " 23  title_year                 3853 non-null   float64\n",
            " 24  actor_2_facebook_likes     3852 non-null   float64\n",
            " 25  imdb_score                 3853 non-null   float64\n",
            " 26  aspect_ratio               3781 non-null   float64\n",
            " 27  movie_facebook_likes       3853 non-null   int64  \n",
            "dtypes: float64(13), int64(3), object(12)\n",
            "memory usage: 843.0+ KB\n"
          ]
        }
      ],
      "source": [
        "movies.info()"
      ]
    },
    {
      "cell_type": "code",
      "execution_count": null,
      "metadata": {},
      "outputs": [],
      "source": []
    },
    {
      "cell_type": "markdown",
      "metadata": {
        "id": "hATTqNF_YxSx"
      },
      "source": [
        "#### <font color='red'>Question 1: How many rows and columns are present in the dataframe? </font>\n",
        "-  <font color='red'>(3821, 26)</font>\n",
        "-  <font color='red'>(3879, 28)</font>\n",
        "-  <font color='red'>(3853, 28)</font>\n",
        "-  <font color='red'>(3866, 26)</font>"
      ]
    },
    {
      "cell_type": "markdown",
      "metadata": {
        "id": "efIaXXFoYxSx"
      },
      "source": [
        "#### <font color='red'>Question 2: How many columns have null values present in them? Try writing a code for this instead of counting them manually.</font>\n",
        "\n",
        "-  <font color='red'>3</font>\n",
        "-  <font color='red'>6</font>\n",
        "-  <font color='red'>9</font>\n",
        "-  <font color='red'>12</font>"
      ]
    },
    {
      "cell_type": "code",
      "execution_count": 70,
      "metadata": {},
      "outputs": [
        {
          "data": {
            "text/plain": [
              "12"
            ]
          },
          "execution_count": 70,
          "metadata": {},
          "output_type": "execute_result"
        }
      ],
      "source": [
        "(movies.isnull().sum() > 0).sum()"
      ]
    },
    {
      "cell_type": "markdown",
      "metadata": {
        "id": "WCuuw7fGYxSy"
      },
      "source": [
        "### Task 2: Cleaning the Data\n",
        "\n",
        "**Subtask 2.1: Drop unecessary columns**\n",
        "\n",
        "For this assignment, you will mostly be analyzing the movies with respect to the ratings, gross collection, popularity of movies, etc. So many of the columns in this dataframe are not required. So it is advised to drop the following columns.\n",
        "-  color\n",
        "-  director_facebook_likes\n",
        "-  actor_1_facebook_likes\n",
        "-  actor_2_facebook_likes\n",
        "-  actor_3_facebook_likes\n",
        "-  actor_2_name\n",
        "-  cast_total_facebook_likes\n",
        "-  actor_3_name\n",
        "-  duration\n",
        "-  facenumber_in_poster\n",
        "-  content_rating\n",
        "-  country\n",
        "-  movie_imdb_link\n",
        "-  aspect_ratio\n",
        "-  plot_keywords"
      ]
    },
    {
      "cell_type": "code",
      "execution_count": 71,
      "metadata": {
        "id": "Gm3PhfDvYxSz"
      },
      "outputs": [
        {
          "data": {
            "text/html": [
              "<div>\n",
              "<style scoped>\n",
              "    .dataframe tbody tr th:only-of-type {\n",
              "        vertical-align: middle;\n",
              "    }\n",
              "\n",
              "    .dataframe tbody tr th {\n",
              "        vertical-align: top;\n",
              "    }\n",
              "\n",
              "    .dataframe thead th {\n",
              "        text-align: right;\n",
              "    }\n",
              "</style>\n",
              "<table border=\"1\" class=\"dataframe\">\n",
              "  <thead>\n",
              "    <tr style=\"text-align: right;\">\n",
              "      <th></th>\n",
              "      <th>director_name</th>\n",
              "      <th>num_critic_for_reviews</th>\n",
              "      <th>gross</th>\n",
              "      <th>genres</th>\n",
              "      <th>actor_1_name</th>\n",
              "      <th>movie_title</th>\n",
              "      <th>num_voted_users</th>\n",
              "      <th>num_user_for_reviews</th>\n",
              "      <th>language</th>\n",
              "      <th>budget</th>\n",
              "      <th>title_year</th>\n",
              "      <th>imdb_score</th>\n",
              "      <th>movie_facebook_likes</th>\n",
              "    </tr>\n",
              "  </thead>\n",
              "  <tbody>\n",
              "    <tr>\n",
              "      <th>0</th>\n",
              "      <td>James Cameron</td>\n",
              "      <td>723.0</td>\n",
              "      <td>760505847.0</td>\n",
              "      <td>Action|Adventure|Fantasy|Sci-Fi</td>\n",
              "      <td>CCH Pounder</td>\n",
              "      <td>Avatar</td>\n",
              "      <td>886204</td>\n",
              "      <td>3054.0</td>\n",
              "      <td>English</td>\n",
              "      <td>237000000.0</td>\n",
              "      <td>2009.0</td>\n",
              "      <td>7.9</td>\n",
              "      <td>33000</td>\n",
              "    </tr>\n",
              "    <tr>\n",
              "      <th>1</th>\n",
              "      <td>Gore Verbinski</td>\n",
              "      <td>302.0</td>\n",
              "      <td>309404152.0</td>\n",
              "      <td>Action|Adventure|Fantasy</td>\n",
              "      <td>Johnny Depp</td>\n",
              "      <td>Pirates of the Caribbean: At World's End</td>\n",
              "      <td>471220</td>\n",
              "      <td>1238.0</td>\n",
              "      <td>English</td>\n",
              "      <td>300000000.0</td>\n",
              "      <td>2007.0</td>\n",
              "      <td>7.1</td>\n",
              "      <td>0</td>\n",
              "    </tr>\n",
              "  </tbody>\n",
              "</table>\n",
              "</div>"
            ],
            "text/plain": [
              "    director_name  num_critic_for_reviews        gross   \n",
              "0   James Cameron                   723.0  760505847.0  \\\n",
              "1  Gore Verbinski                   302.0  309404152.0   \n",
              "\n",
              "                            genres actor_1_name   \n",
              "0  Action|Adventure|Fantasy|Sci-Fi  CCH Pounder  \\\n",
              "1         Action|Adventure|Fantasy  Johnny Depp   \n",
              "\n",
              "                                 movie_title  num_voted_users   \n",
              "0                                    Avatar            886204  \\\n",
              "1  Pirates of the Caribbean: At World's End            471220   \n",
              "\n",
              "   num_user_for_reviews language       budget  title_year  imdb_score   \n",
              "0                3054.0  English  237000000.0      2009.0         7.9  \\\n",
              "1                1238.0  English  300000000.0      2007.0         7.1   \n",
              "\n",
              "   movie_facebook_likes  \n",
              "0                 33000  \n",
              "1                     0  "
            ]
          },
          "execution_count": 71,
          "metadata": {},
          "output_type": "execute_result"
        }
      ],
      "source": [
        "# Check the 'drop' function in the Pandas library - dataframe.drop(list_of_unnecessary_columns, axis = )\n",
        "# Write your code for dropping the columns here. It is advised to keep inspecting the dataframe after each set of operations\n",
        "\n",
        "movies.drop([\"color\",\n",
        "\"director_facebook_likes\",\n",
        "\"actor_1_facebook_likes\",\n",
        "\"actor_2_facebook_likes\",\n",
        "\"actor_3_facebook_likes\",\n",
        "\"actor_2_name\",\n",
        "\"cast_total_facebook_likes\",\n",
        "\"actor_3_name\",\n",
        "\"duration\",\n",
        "\"facenumber_in_poster\",\n",
        "\"content_rating\",\n",
        "\"country\",\n",
        "\"movie_imdb_link\",\n",
        "\"aspect_ratio\",\n",
        "\"plot_keywords\"], axis=1,inplace=True)\n",
        "movies.head(2)"
      ]
    },
    {
      "cell_type": "code",
      "execution_count": 72,
      "metadata": {},
      "outputs": [
        {
          "data": {
            "text/plain": [
              "13"
            ]
          },
          "execution_count": 72,
          "metadata": {},
          "output_type": "execute_result"
        }
      ],
      "source": [
        "movies.columns.size"
      ]
    },
    {
      "cell_type": "markdown",
      "metadata": {
        "id": "t_OvEzkxYxSz"
      },
      "source": [
        "#### <font color='red'>Question 3: What is the count of columns in the new dataframe? </font>\n",
        "-  <font color='red'>10</font>\n",
        "-  <font color='red'>13</font>\n",
        "-  <font color='red'>15</font>\n",
        "-  <font color='red'>17</font>"
      ]
    },
    {
      "cell_type": "markdown",
      "metadata": {
        "id": "kb58LHJCYxS1"
      },
      "source": [
        "**Subtask 2.2: Inspect Null values**\n",
        "\n",
        "As you have seen above, there are null values in multiple columns of the dataframe 'movies'. Find out the percentage of null values in each column of the dataframe 'movies'."
      ]
    },
    {
      "cell_type": "code",
      "execution_count": 73,
      "metadata": {},
      "outputs": [
        {
          "data": {
            "text/plain": [
              "director_name             0\n",
              "num_critic_for_reviews    1\n",
              "gross                     0\n",
              "genres                    0\n",
              "actor_1_name              0\n",
              "movie_title               0\n",
              "num_voted_users           0\n",
              "num_user_for_reviews      0\n",
              "language                  4\n",
              "budget                    0\n",
              "title_year                0\n",
              "imdb_score                0\n",
              "movie_facebook_likes      0\n",
              "dtype: int64"
            ]
          },
          "execution_count": 73,
          "metadata": {},
          "output_type": "execute_result"
        }
      ],
      "source": [
        "movies.isnull().sum()"
      ]
    },
    {
      "cell_type": "code",
      "execution_count": 74,
      "metadata": {},
      "outputs": [
        {
          "data": {
            "text/plain": [
              "3853"
            ]
          },
          "execution_count": 74,
          "metadata": {},
          "output_type": "execute_result"
        }
      ],
      "source": [
        "len(movies)"
      ]
    },
    {
      "cell_type": "code",
      "execution_count": 75,
      "metadata": {
        "id": "C-KccWlBYxS3"
      },
      "outputs": [
        {
          "data": {
            "text/plain": [
              "director_name             0.000000\n",
              "num_critic_for_reviews    0.025954\n",
              "gross                     0.000000\n",
              "genres                    0.000000\n",
              "actor_1_name              0.000000\n",
              "movie_title               0.000000\n",
              "num_voted_users           0.000000\n",
              "num_user_for_reviews      0.000000\n",
              "language                  0.103815\n",
              "budget                    0.000000\n",
              "title_year                0.000000\n",
              "imdb_score                0.000000\n",
              "movie_facebook_likes      0.000000\n",
              "dtype: float64"
            ]
          },
          "execution_count": 75,
          "metadata": {},
          "output_type": "execute_result"
        }
      ],
      "source": [
        "# Write you code here\n",
        "movies.isnull().sum() * 100 / len(movies)"
      ]
    },
    {
      "cell_type": "code",
      "execution_count": 76,
      "metadata": {},
      "outputs": [
        {
          "data": {
            "text/plain": [
              "language\n",
              "English       3671\n",
              "French          37\n",
              "Spanish         26\n",
              "Mandarin        14\n",
              "German          13\n",
              "Japanese        12\n",
              "Hindi           10\n",
              "Cantonese        8\n",
              "Italian          7\n",
              "Portuguese       5\n",
              "Korean           5\n",
              "Norwegian        4\n",
              "Thai             3\n",
              "Persian          3\n",
              "Danish           3\n",
              "Dutch            3\n",
              "Dari             2\n",
              "Indonesian       2\n",
              "Hebrew           2\n",
              "Aboriginal       2\n",
              "Arabic           1\n",
              "Russian          1\n",
              "Vietnamese       1\n",
              "Dzongkha         1\n",
              "Romanian         1\n",
              "Zulu             1\n",
              "Bosnian          1\n",
              "Czech            1\n",
              "Icelandic        1\n",
              "Hungarian        1\n",
              "Mongolian        1\n",
              "Aramaic          1\n",
              "Telugu           1\n",
              "Kazakh           1\n",
              "Maya             1\n",
              "Filipino         1\n",
              "Swedish          1\n",
              "Name: count, dtype: int64"
            ]
          },
          "execution_count": 76,
          "metadata": {},
          "output_type": "execute_result"
        }
      ],
      "source": [
        "movies[\"language\"].value_counts()"
      ]
    },
    {
      "cell_type": "markdown",
      "metadata": {
        "id": "8Y4u_Bw1YxS4"
      },
      "source": [
        "#### <font color='red'>Question 4: Which column has the highest percentage of null values? </font>\n",
        "-  <font color='red'>language</font>\n",
        "-  <font color='red'>genres</font>\n",
        "-  <font color='red'>num_critic_for_reviews</font>\n",
        "-  <font color='red'>imdb_score</font>"
      ]
    },
    {
      "cell_type": "markdown",
      "metadata": {
        "id": "CSffRk9kYxS4"
      },
      "source": [
        "**Subtask 2.3: Fill NaN values**\n",
        "\n",
        "You might notice that the `language` column has some NaN values. Here, on inspection, you will see that it is safe to replace all the missing values with `'English'`."
      ]
    },
    {
      "cell_type": "code",
      "execution_count": 77,
      "metadata": {
        "id": "A_XdlHftYxS4"
      },
      "outputs": [
        {
          "data": {
            "text/plain": [
              "4"
            ]
          },
          "execution_count": 77,
          "metadata": {},
          "output_type": "execute_result"
        }
      ],
      "source": [
        "# Write your code for filling the NaN values in the 'language' column here\n",
        "movies['language'].isnull().sum()"
      ]
    },
    {
      "cell_type": "code",
      "execution_count": 78,
      "metadata": {},
      "outputs": [
        {
          "data": {
            "text/plain": [
              "0"
            ]
          },
          "execution_count": 78,
          "metadata": {},
          "output_type": "execute_result"
        }
      ],
      "source": [
        "movies['language'].fillna('Engliish', inplace=True)\n",
        "movies['language'].isnull().sum()"
      ]
    },
    {
      "cell_type": "code",
      "execution_count": 82,
      "metadata": {},
      "outputs": [
        {
          "data": {
            "text/plain": [
              "3671"
            ]
          },
          "execution_count": 82,
          "metadata": {},
          "output_type": "execute_result"
        }
      ],
      "source": [
        "(movies['language'] == \"English\").sum()"
      ]
    },
    {
      "cell_type": "code",
      "execution_count": 79,
      "metadata": {},
      "outputs": [
        {
          "data": {
            "text/plain": [
              "language\n",
              "English       3671\n",
              "French          37\n",
              "Spanish         26\n",
              "Mandarin        14\n",
              "German          13\n",
              "Japanese        12\n",
              "Hindi           10\n",
              "Cantonese        8\n",
              "Italian          7\n",
              "Portuguese       5\n",
              "Korean           5\n",
              "Engliish         4\n",
              "Norwegian        4\n",
              "Danish           3\n",
              "Dutch            3\n",
              "Persian          3\n",
              "Thai             3\n",
              "Dari             2\n",
              "Indonesian       2\n",
              "Hebrew           2\n",
              "Aboriginal       2\n",
              "Russian          1\n",
              "Romanian         1\n",
              "Vietnamese       1\n",
              "Arabic           1\n",
              "Dzongkha         1\n",
              "Zulu             1\n",
              "Aramaic          1\n",
              "Czech            1\n",
              "Telugu           1\n",
              "Icelandic        1\n",
              "Filipino         1\n",
              "Hungarian        1\n",
              "Maya             1\n",
              "Bosnian          1\n",
              "Mongolian        1\n",
              "Kazakh           1\n",
              "Swedish          1\n",
              "Name: count, dtype: int64"
            ]
          },
          "execution_count": 79,
          "metadata": {},
          "output_type": "execute_result"
        }
      ],
      "source": [
        "movies['language'].value_counts()"
      ]
    },
    {
      "cell_type": "code",
      "execution_count": null,
      "metadata": {},
      "outputs": [],
      "source": [
        "(movies['language'] == 'English').sum()"
      ]
    },
    {
      "cell_type": "markdown",
      "metadata": {
        "id": "rVaW9a0bYxS5"
      },
      "source": [
        "#### <font color='red'>Question 5: What is the count of movies made in English language after replacing the NaN values with English? </font>\n",
        "-  <font color='red'>3670</font>\n",
        "-  <font color='red'>3674</font>\n",
        "-  <font color='red'>3668</font>\n",
        "-  <font color='red'>3672</font>"
      ]
    },
    {
      "cell_type": "markdown",
      "metadata": {
        "id": "FmjMvssEYxS5"
      },
      "source": [
        "### Task 3: Data Analysis\n",
        "\n",
        "**Subtask 3.1: Change the unit of columns**\n",
        "\n",
        "Convert the unit of the `budget` and `gross` columns from `$` to `million $`."
      ]
    },
    {
      "cell_type": "code",
      "execution_count": null,
      "metadata": {
        "id": "71ojdmxjYxS5"
      },
      "outputs": [],
      "source": [
        "# Write your code for unit conversion here\n"
      ]
    },
    {
      "cell_type": "markdown",
      "metadata": {
        "id": "vpK6npxBYxS5"
      },
      "source": [
        "**Subtask 3.2: Find the movies with highest profit**\n",
        "\n",
        "   1. Create a new column called `profit` which contains the difference of the two columns: `gross` and `budget`.\n",
        "   2. Sort the dataframe using the `profit` column as reference. (Find which command can be used here to sort entries from the documentation)\n",
        "   3. Extract the top ten profiting movies in descending order and store them in a new dataframe - `top10`"
      ]
    },
    {
      "cell_type": "code",
      "execution_count": null,
      "metadata": {
        "id": "OCMUtmKjYxS6"
      },
      "outputs": [],
      "source": [
        "# Write your code for creating the profit column here\n"
      ]
    },
    {
      "cell_type": "code",
      "execution_count": null,
      "metadata": {
        "id": "qPl8RAW1YxS6"
      },
      "outputs": [],
      "source": [
        "# Write your code for sorting the dataframe here\n"
      ]
    },
    {
      "cell_type": "code",
      "execution_count": null,
      "metadata": {
        "id": "8D56hXNhYxS6"
      },
      "outputs": [],
      "source": [
        "top10 = # Write your code to get the top 10 profiting movies here"
      ]
    },
    {
      "cell_type": "markdown",
      "metadata": {
        "id": "V1VUKmSRYxS6"
      },
      "source": [
        "**Checkpoint:** You might spot two movies directed by `James Cameron` in the list."
      ]
    },
    {
      "cell_type": "markdown",
      "metadata": {
        "id": "FFM8R8XhYxS7"
      },
      "source": [
        "#### <font color='red'>Question 6: Which movie is ranked 5th from the top in the list obtained? </font>\n",
        "-  <font color='red'>E.T. the Extra-Terrestrial</font>\n",
        "-  <font color='red'>The Avengers</font>\n",
        "-  <font color='red'>The Dark Knight</font>\n",
        "-  <font color='red'>Titanic</font>"
      ]
    },
    {
      "cell_type": "markdown",
      "metadata": {
        "id": "RrbFWcyiYxS7"
      },
      "source": [
        "**Subtask 3.3: Find IMDb Top 250**\n",
        "\n",
        "Create a new dataframe `IMDb_Top_250` and store the top 250 movies with the highest IMDb Rating (corresponding to the column: `imdb_score`). Also make sure that for all of these movies, the `num_voted_users` is greater than 25,000.\n",
        "\n",
        "Also add a `Rank` column containing the values 1 to 250 indicating the ranks of the corresponding films."
      ]
    },
    {
      "cell_type": "code",
      "execution_count": null,
      "metadata": {
        "id": "RfPP6QvIYxS7"
      },
      "outputs": [],
      "source": [
        "# Write your code for extracting the top 250 movies as per the IMDb score here. Make sure that you store it in a new dataframe\n",
        "# and name that dataframe as 'IMDb_Top_250'\n"
      ]
    },
    {
      "cell_type": "markdown",
      "metadata": {
        "id": "lDTONuLpYxS7"
      },
      "source": [
        "#### <font color='red'>Question 7: Suppose movies are divided into 5 buckets based on the IMDb ratings: </font>\n",
        "-  <font color='red'>7.5 to 8</font>\n",
        "-  <font color='red'>8 to 8.5</font>\n",
        "-  <font color='red'>8.5 to 9</font>\n",
        "-  <font color='red'>9 to 9.5</font>\n",
        "-  <font color='red'>9.5 to 10</font>\n",
        "\n",
        "<font color = 'red'> Which bucket holds the maximum number of movies from *IMDb_Top_250*? </font>"
      ]
    },
    {
      "cell_type": "markdown",
      "metadata": {
        "id": "yDjHGO2-YxS8"
      },
      "source": [
        "**Subtask 3.4: Find the critic-favorite and audience-favorite actors**\n",
        "\n",
        "   1. Create three new dataframes namely, `Meryl_Streep`, `Leo_Caprio`, and `Brad_Pitt` which contain the movies in which the actors: 'Meryl Streep', 'Leonardo DiCaprio', and 'Brad Pitt' are the lead actors. Use only the `actor_1_name` column for extraction. Also, make sure that you use the names 'Meryl Streep', 'Leonardo DiCaprio', and 'Brad Pitt' for the said extraction.\n",
        "   2. Append the rows of all these dataframes and store them in a new dataframe named `Combined`.\n",
        "   3. Group the combined dataframe using the `actor_1_name` column.\n",
        "   4. Find the mean of the `num_critic_for_reviews` and `num_user_for_review` and identify the actors which have the highest mean."
      ]
    },
    {
      "cell_type": "code",
      "execution_count": null,
      "metadata": {
        "id": "BK4dZZhqYxS8"
      },
      "outputs": [],
      "source": [
        "# Write your code for creating three new dataframes here\n",
        "Meryl_Streep = # Include all movies in which Meryl_Streep is the lead"
      ]
    },
    {
      "cell_type": "code",
      "execution_count": null,
      "metadata": {
        "id": "9zoF0sdDYxS8"
      },
      "outputs": [],
      "source": [
        "Leo_Caprio = # Include all movies in which Leo_Caprio is the lead"
      ]
    },
    {
      "cell_type": "code",
      "execution_count": null,
      "metadata": {
        "id": "v5Xm6gZwYxS8"
      },
      "outputs": [],
      "source": [
        "Brad_Pitt = # Include all movies in which Brad_Pitt is the lead"
      ]
    },
    {
      "cell_type": "code",
      "execution_count": null,
      "metadata": {
        "id": "g5fkQr6hYxS8"
      },
      "outputs": [],
      "source": [
        "# Write your code for combining the three dataframes here\n",
        "Combined ="
      ]
    },
    {
      "cell_type": "code",
      "execution_count": null,
      "metadata": {
        "id": "_VZv1gqYYxS9"
      },
      "outputs": [],
      "source": [
        "# Write your code for grouping the combined dataframe here\n"
      ]
    },
    {
      "cell_type": "code",
      "execution_count": null,
      "metadata": {
        "id": "fsYrUKDfYxS9"
      },
      "outputs": [],
      "source": [
        "# Write the code for finding the mean of critic reviews and audience reviews here\n"
      ]
    },
    {
      "cell_type": "markdown",
      "metadata": {
        "id": "2vLOvoecYxS9"
      },
      "source": [
        "#### <font color='red'>Question 8: Which actor is highest rated among the three actors according to the user reviews? </font>\n",
        "-  <font color='red'>Meryl Streep</font>\n",
        "-  <font color='red'>Leonardo DiCaprio</font>\n",
        "-  <font color='red'>Brad Pitt</font>"
      ]
    },
    {
      "cell_type": "markdown",
      "metadata": {
        "id": "7tfD6L1KYxS9"
      },
      "source": [
        "#### <font color='red'>Question 9: Which actor is highest rated among the three actors according to the critics?</font>\n",
        "-  <font color='red'>Meryl Streep</font>\n",
        "-  <font color='red'>Leonardo DiCaprio</font>\n",
        "-  <font color='red'>Brad Pitt</font>"
      ]
    },
    {
      "cell_type": "code",
      "execution_count": null,
      "metadata": {
        "id": "kz_AS4QFYxS_"
      },
      "outputs": [],
      "source": []
    },
    {
      "cell_type": "markdown",
      "metadata": {
        "id": "z5tB5Nf7S9S-"
      },
      "source": [
        "##  Task2 Amazon Prime video data analysis\n"
      ]
    },
    {
      "cell_type": "markdown",
      "metadata": {
        "id": "mjgHK11QSxo_"
      },
      "source": [
        "https://www.kaggle.com/datasets/shivamb/amazon-prime-movies-and-tv-shows?resource=download\n"
      ]
    },
    {
      "cell_type": "markdown",
      "metadata": {
        "id": "5NuX0JyoRCrM"
      },
      "source": [
        "Show uniques values of a column 'director'"
      ]
    },
    {
      "cell_type": "code",
      "execution_count": null,
      "metadata": {
        "id": "L5AGSzkWRMna"
      },
      "outputs": [],
      "source": []
    },
    {
      "cell_type": "markdown",
      "metadata": {
        "id": "WA3dgNcBRh2n"
      },
      "source": [
        "show all unique values with their counts"
      ]
    },
    {
      "cell_type": "code",
      "execution_count": null,
      "metadata": {
        "id": "nJq1ZKNcRlbD"
      },
      "outputs": [],
      "source": []
    },
    {
      "cell_type": "markdown",
      "metadata": {
        "id": "anLxmtwNRM3h"
      },
      "source": [
        "get total no of uniwue values of whole data frame"
      ]
    },
    {
      "cell_type": "code",
      "execution_count": null,
      "metadata": {
        "id": "BEsaJKOoRWZE"
      },
      "outputs": [],
      "source": []
    },
    {
      "cell_type": "markdown",
      "metadata": {
        "id": "oIH0LuFDRVi9"
      },
      "source": [
        "In which year highest no of TV shows and movies were released"
      ]
    },
    {
      "cell_type": "code",
      "execution_count": null,
      "metadata": {
        "id": "7GBPTZACR3Bo"
      },
      "outputs": [],
      "source": []
    },
    {
      "cell_type": "markdown",
      "metadata": {
        "id": "LVQ768dmR3dk"
      },
      "source": [
        "how many TV and Movie shows are there in Data frame"
      ]
    },
    {
      "cell_type": "code",
      "execution_count": null,
      "metadata": {
        "id": "AUBJmKf6R_Uq"
      },
      "outputs": [],
      "source": []
    },
    {
      "cell_type": "markdown",
      "metadata": {
        "id": "CspNeheiR_sf"
      },
      "source": [
        "show all records with type 'movies; and country united kingdom"
      ]
    },
    {
      "cell_type": "code",
      "execution_count": null,
      "metadata": {
        "id": "PcdyA9Q-SNqS"
      },
      "outputs": [],
      "source": []
    },
    {
      "cell_type": "markdown",
      "metadata": {
        "id": "lydhDNsOSN7r"
      },
      "source": [
        "show all movie records directed by Paul"
      ]
    },
    {
      "cell_type": "code",
      "execution_count": null,
      "metadata": {
        "id": "VwwNQh5JSc9_"
      },
      "outputs": [],
      "source": []
    },
    {
      "cell_type": "markdown",
      "metadata": {
        "id": "yD3dVFmnSdTy"
      },
      "source": [
        "Show top 3 Directors, who gave highest no of TV shows and movies released on Prime video"
      ]
    },
    {
      "cell_type": "code",
      "execution_count": null,
      "metadata": {
        "id": "ec_qJQK9Sn3t"
      },
      "outputs": [],
      "source": []
    },
    {
      "cell_type": "markdown",
      "metadata": {
        "id": "savwnSb0SoQQ"
      },
      "source": [
        "In which year Highest rating show was there"
      ]
    },
    {
      "cell_type": "code",
      "execution_count": null,
      "metadata": {
        "id": "SU6FTp_ZkxN-"
      },
      "outputs": [],
      "source": []
    },
    {
      "cell_type": "markdown",
      "metadata": {
        "id": "pJvzinjfkxsi"
      },
      "source": [
        "### Task 3 Netflix Analysis\n",
        "Information about TV shows and Movies\n",
        "1- upload csv\n",
        "\n",
        "\n",
        "2- describe, info,dtypes\n",
        "\n",
        "\n",
        "3- uniques values of each column\n",
        "\n",
        "\n",
        "4- total no of unique values of Dataframe\n",
        "\n",
        "\n",
        "5- Unique values with their count\n",
        "\n",
        "\n",
        "6-is any missing value with count\n",
        "\n",
        "7- who is the director and show id of show #\"ZOO\"\n",
        "\n",
        "8- Convert Datatype of column release date to DateTime\n",
        "\n",
        "9-In which year highest no of TV shows and Movies relaesed\n",
        "\n",
        "10-How many movies and TV shows are there in data set\n",
        "\n",
        "11- Display Titles of all TV shows that were released in \" United Sates\" only\n",
        "\n",
        "12- show top 10 Directors who gave highest no of TV shows and Movies on Netflix\n",
        "\n",
        "13- show the record of all 'Horror' type of Movies\n",
        "\n",
        "14 What are different 'Ratings' given by Netflix\n",
        "\n",
        "15- What is Maximum duration of TV show on Netflix\n",
        "\n",
        "16-sort dataframe by year\n",
        "\n"
      ]
    }
  ],
  "metadata": {
    "colab": {
      "provenance": []
    },
    "kernelspec": {
      "display_name": "Python 3",
      "language": "python",
      "name": "python3"
    },
    "language_info": {
      "codemirror_mode": {
        "name": "ipython",
        "version": 3
      },
      "file_extension": ".py",
      "mimetype": "text/x-python",
      "name": "python",
      "nbconvert_exporter": "python",
      "pygments_lexer": "ipython3",
      "version": "3.11.5"
    }
  },
  "nbformat": 4,
  "nbformat_minor": 0
}
